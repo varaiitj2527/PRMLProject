{
  "nbformat": 4,
  "nbformat_minor": 0,
  "metadata": {
    "colab": {
      "provenance": [],
      "include_colab_link": true
    },
    "kernelspec": {
      "name": "python3",
      "display_name": "Python 3"
    },
    "language_info": {
      "name": "python"
    }
  },
  "cells": [
    {
      "cell_type": "markdown",
      "metadata": {
        "id": "view-in-github",
        "colab_type": "text"
      },
      "source": [
        "<a href=\"https://colab.research.google.com/github/varaiitj2527/PRMLProject/blob/main/FeatureExtraction.ipynb\" target=\"_parent\"><img src=\"https://colab.research.google.com/assets/colab-badge.svg\" alt=\"Open In Colab\"/></a>"
      ]
    },
    {
      "cell_type": "code",
      "source": [
        "import numpy as np\n",
        "from skimage.feature import hog\n",
        "from tqdm import tqdm\n",
        "import pickle\n",
        "import matplotlib.pyplot as plt\n",
        "from sklearn.decomposition import PCA"
      ],
      "metadata": {
        "id": "7JI2DB02qxuR"
      },
      "execution_count": 5,
      "outputs": []
    },
    {
      "cell_type": "code",
      "source": [
        "def ShowImage(img) :\n",
        "\n",
        "    plt.imshow(img)\n",
        "    plt.show()"
      ],
      "metadata": {
        "id": "jzp-sVu-8wwk"
      },
      "execution_count": 18,
      "outputs": []
    },
    {
      "cell_type": "code",
      "execution_count": 6,
      "metadata": {
        "id": "So24hOm2S4ty"
      },
      "outputs": [],
      "source": [
        "def unpickle(file) :\n",
        "\n",
        "    dictionary = pickle.load(file, encoding='bytes')\n",
        "    return dictionary"
      ]
    },
    {
      "cell_type": "code",
      "source": [
        "def load_cifar_batch(filename) :\n",
        "\n",
        "    '''\n",
        "      unpickling the file and loading the data in the correct format\n",
        "      returns features which are pixels,\n",
        "      labels of a data(images) present in the batchfile\n",
        "\n",
        "    '''\n",
        "\n",
        "    with open(filename, 'rb') as file:\n",
        "        batch_data = unpickle(file)\n",
        "\n",
        "    pixels = batch_data[b'data']\n",
        "    labels = batch_data[b'labels']\n",
        "\n",
        "    # 3072---->3,32,32---->32,32,3\n",
        "    pixels = pixels.reshape(-1, 3, 32, 32).transpose(0, 2, 3, 1)\n",
        "    return pixels, labels"
      ],
      "metadata": {
        "id": "FmJvALTmrT2O"
      },
      "execution_count": 7,
      "outputs": []
    },
    {
      "cell_type": "code",
      "source": [
        "def load_cifar_data() :\n",
        "\n",
        "    '''\n",
        "      loading the data from the batch files\n",
        "      Combining the data from all the batch files train\n",
        "      returns X_train, y_train, X_test, y_test\n",
        "    '''\n",
        "\n",
        "    X_train, y_train = [], []\n",
        "    for i in range(1, 6):\n",
        "        pixels, labels = load_cifar_batch(f'data_batch_{i}')\n",
        "        X_train.append(pixels)\n",
        "        y_train += labels\n",
        "\n",
        "    X_train = np.concatenate(X_train)\n",
        "    y_train = np.array(y_train)\n",
        "\n",
        "    X_test, y_test = load_cifar_batch('test_batch')\n",
        "    X_test, y_test = np.array(X_test), np.array(y_test)\n",
        "\n",
        "    print(f\"shape of train set: {X_train.shape}\")\n",
        "    print(f\"shape of test set: {X_test.shape}\")\n",
        "\n",
        "    return X_train, y_train, X_test, y_test"
      ],
      "metadata": {
        "id": "1qxJZQ_Du4lv"
      },
      "execution_count": 8,
      "outputs": []
    },
    {
      "cell_type": "code",
      "source": [
        "X_train, y_train, X_test, y_test = load_cifar_data()"
      ],
      "metadata": {
        "colab": {
          "base_uri": "https://localhost:8080/"
        },
        "id": "dCHqi4PZwEVd",
        "outputId": "8ab3b390-7e52-4616-e270-5676a06b43cf"
      },
      "execution_count": 9,
      "outputs": [
        {
          "output_type": "stream",
          "name": "stdout",
          "text": [
            "shape of train set: (50000, 32, 32, 3)\n",
            "shape of test set: (10000, 32, 32, 3)\n"
          ]
        }
      ]
    },
    {
      "cell_type": "code",
      "source": [
        "def create_pickles(path, data) :\n",
        "\n",
        "    with open(path, 'wb') as f:\n",
        "        pickle.dump(data, f)"
      ],
      "metadata": {
        "id": "V8GlGwNz3Qkk"
      },
      "execution_count": 10,
      "outputs": []
    },
    {
      "cell_type": "code",
      "source": [
        "create_pickles('RawPixels_train.pkl', X_train)\n",
        "create_pickles('Labels_train.pkl', y_train)\n",
        "create_pickles('RawPixels_test.pkl', X_test)\n",
        "create_pickles('Labels_test.pkl', y_test)"
      ],
      "metadata": {
        "id": "uNq24zsK3wG2"
      },
      "execution_count": 11,
      "outputs": []
    },
    {
      "cell_type": "code",
      "source": [
        "def compute_HoG(img) :\n",
        "\n",
        "    '''\n",
        "      Extracting HoG features\n",
        "    '''\n",
        "    HoG_features, HoG_image = hog(img, orientations=9, pixels_per_cell=(8, 8),cells_per_block=(2, 2), visualize=True, channel_axis=-1)\n",
        "    return HoG_features,HoG_image"
      ],
      "metadata": {
        "id": "5dNAgOiQw-MX"
      },
      "execution_count": 88,
      "outputs": []
    },
    {
      "cell_type": "code",
      "source": [
        "def HoG_features(data) :\n",
        "\n",
        "    X_HoG = []\n",
        "    X_HoG_image = []\n",
        "\n",
        "    for i in tqdm(range(len(data))) :\n",
        "\n",
        "        X,Y = compute_HoG(data[i])\n",
        "        X_HoG.append(X)\n",
        "        X_HoG_image.append(Y)\n",
        "\n",
        "    X_HoG = np.array(X_HoG)\n",
        "    X_HoG_image = np.array(X_HoG_image)\n",
        "\n",
        "    return X_HoG,X_HoG_image"
      ],
      "metadata": {
        "id": "Y6z7EXMLx_Fk"
      },
      "execution_count": 90,
      "outputs": []
    },
    {
      "cell_type": "code",
      "source": [
        "train_features_HoG, train_images_HoG = HoG_features(X_train)\n",
        "create_pickles('TrainFeaturesHoG.pkl', train_features_HoG)"
      ],
      "metadata": {
        "colab": {
          "base_uri": "https://localhost:8080/"
        },
        "id": "G-mADcld4z-z",
        "outputId": "99e66af7-a0df-473f-b003-8d8c2338dd9c"
      },
      "execution_count": 92,
      "outputs": [
        {
          "output_type": "stream",
          "name": "stderr",
          "text": [
            "100%|██████████| 50000/50000 [02:50<00:00, 293.30it/s]\n"
          ]
        }
      ]
    },
    {
      "cell_type": "code",
      "source": [
        "print(train_features_HoG.shape)"
      ],
      "metadata": {
        "colab": {
          "base_uri": "https://localhost:8080/"
        },
        "id": "enyDM396GYeo",
        "outputId": "c70c3c22-055c-4951-a6e1-7c26b44e7b42"
      },
      "execution_count": 93,
      "outputs": [
        {
          "output_type": "stream",
          "name": "stdout",
          "text": [
            "(50000, 324)\n"
          ]
        }
      ]
    },
    {
      "cell_type": "code",
      "source": [
        "test_features_HoG, test_images_HoG = HoG_features(X_test)\n",
        "create_pickles('TestFeaturesHoG.pkl', test_features_HoG)"
      ],
      "metadata": {
        "colab": {
          "base_uri": "https://localhost:8080/"
        },
        "id": "uV37Add853Qx",
        "outputId": "06608412-7aa4-4168-e15e-29ce43d805fa"
      },
      "execution_count": 94,
      "outputs": [
        {
          "output_type": "stream",
          "name": "stderr",
          "text": [
            "100%|██████████| 10000/10000 [00:33<00:00, 301.85it/s]\n"
          ]
        }
      ]
    },
    {
      "cell_type": "markdown",
      "source": [
        "Using PCA modifying the features such that resulting number of components are chosenwhen they have high variances (around 99)"
      ],
      "metadata": {
        "id": "KsoBCwtQ63jm"
      }
    },
    {
      "cell_type": "code",
      "source": [
        "'''\n",
        "  flattening the pixels RGB to single array and then applying PCA\n",
        "'''\n",
        "height,width,color = X_train.shape[1:4]\n",
        "X_train_flatten = X_train.reshape(-1, height * width * color)\n",
        "X_test_flatten = X_test.reshape(-1, height * width * color)\n",
        "\n",
        "pca = PCA(0.99)\n",
        "pca.fit(X_train_flatten)\n",
        "PCA(copy = True, iterated_power = 'auto', n_components = 0.99, random_state = None, svd_solver = 'auto', tol = 0.0, whiten = False)\n",
        "\n",
        "best_number_of_components = pca.n_components_"
      ],
      "metadata": {
        "id": "U62LW0ZRtzh9"
      },
      "execution_count": 23,
      "outputs": []
    },
    {
      "cell_type": "code",
      "source": [
        "print(best_number_of_components)"
      ],
      "metadata": {
        "colab": {
          "base_uri": "https://localhost:8080/"
        },
        "id": "e8RKxYeGBSNa",
        "outputId": "19307ecb-08ee-4c92-a247-fb8a813a5de5"
      },
      "execution_count": 24,
      "outputs": [
        {
          "output_type": "stream",
          "name": "stdout",
          "text": [
            "658\n"
          ]
        }
      ]
    },
    {
      "cell_type": "code",
      "source": [
        "pca = PCA(best_number_of_components)\n",
        "X_train_PCA = pca.fit_transform(X_train_flatten)\n",
        "X_train_PCA_inverse = pca.inverse_transform(X_train_PCA)\n",
        "X_test_PCA = pca.transform(X_test_flatten)\n",
        "X_test_PCA_inverse = pca.inverse_transform(X_test_PCA)"
      ],
      "metadata": {
        "id": "INBX-6Q1vuCb"
      },
      "execution_count": 49,
      "outputs": []
    },
    {
      "cell_type": "code",
      "source": [
        "def DeNormalize_Image(image) :\n",
        "\n",
        "    image = (image - image.min())/(image.max() - image.min())\n",
        "    image *= 255\n",
        "    return image.astype(np.uint8)"
      ],
      "metadata": {
        "id": "JAY7rt95zoY-"
      },
      "execution_count": 50,
      "outputs": []
    },
    {
      "cell_type": "code",
      "source": [
        "create_pickles('TrainFeaturesPCA.pkl', X_train_PCA)\n",
        "create_pickles('TestFeaturesPCA.pkl', X_test_PCA)"
      ],
      "metadata": {
        "id": "WVqCz9Zx7UfF"
      },
      "execution_count": 97,
      "outputs": []
    },
    {
      "cell_type": "code",
      "source": [
        "HoG_pca = PCA(0.99)\n",
        "HoG_pca.fit(train_features_HoG)\n",
        "PCA(copy = True, iterated_power = 'auto', n_components = 0.99, random_state = None, svd_solver = 'auto', tol = 0.0, whiten = False)\n",
        "best_number_of_components_HoG_pca = HoG_pca.n_components_"
      ],
      "metadata": {
        "id": "yYdPiJuckCFm"
      },
      "execution_count": 99,
      "outputs": []
    },
    {
      "cell_type": "code",
      "source": [
        "print(best_number_of_components_HoG_pca)"
      ],
      "metadata": {
        "colab": {
          "base_uri": "https://localhost:8080/"
        },
        "id": "bsNPp3KbGtfV",
        "outputId": "7fa22c16-3f2a-4f44-f7df-429b148fb1e5"
      },
      "execution_count": 100,
      "outputs": [
        {
          "output_type": "stream",
          "name": "stdout",
          "text": [
            "170\n"
          ]
        }
      ]
    },
    {
      "cell_type": "code",
      "source": [
        "pca = PCA(best_number_of_components_HoG_pca)\n",
        "train_features_HoG_pca = pca.fit_transform(train_features_HoG)\n",
        "test_features_HoG_pca = pca.transform(test_features_HoG)"
      ],
      "metadata": {
        "id": "k-MoZkL8kdFY"
      },
      "execution_count": 101,
      "outputs": []
    },
    {
      "cell_type": "code",
      "source": [
        "create_pickles('TrainFeaturesHoG_PCA.pkl', train_features_HoG_pca)\n",
        "create_pickles('TestFeaturesHoG_PCA.pkl', test_features_HoG_pca)"
      ],
      "metadata": {
        "id": "N9INjPexL1Ll"
      },
      "execution_count": 102,
      "outputs": []
    },
    {
      "cell_type": "code",
      "source": [
        "X_train_approx = X_train_PCA_inverse.reshape(-1,32,32,3)\n",
        "X_test_approx = X_test_PCA_inverse.reshape(-1,32,32,3)\n",
        "\n",
        "for image in X_train_approx :\n",
        "  image = DeNormalize_Image(image)\n",
        "\n",
        "for image in X_test_approx :\n",
        "  image = DeNormalize_Image(image)\n",
        "\n",
        "X_train_approx = X_train_approx.astype(np.uint8)\n",
        "X_test_approx = X_test_approx.astype(np.uint8)"
      ],
      "metadata": {
        "id": "q9g1O4_Bo9hX"
      },
      "execution_count": 103,
      "outputs": []
    },
    {
      "cell_type": "code",
      "source": [
        "print(X_train_approx.shape)\n",
        "print(X_test_approx.shape)"
      ],
      "metadata": {
        "colab": {
          "base_uri": "https://localhost:8080/"
        },
        "id": "O_ZSUACuNCLx",
        "outputId": "c5cc6bd4-e332-4265-e6fe-cd27f5f6330a"
      },
      "execution_count": 104,
      "outputs": [
        {
          "output_type": "stream",
          "name": "stdout",
          "text": [
            "(50000, 32, 32, 3)\n",
            "(10000, 32, 32, 3)\n"
          ]
        }
      ]
    },
    {
      "cell_type": "code",
      "source": [
        "print(X_train_approx.dtype)"
      ],
      "metadata": {
        "colab": {
          "base_uri": "https://localhost:8080/"
        },
        "id": "rCI2NRp4NRDD",
        "outputId": "6047a263-2f8a-437b-c1bf-4c7d590ed742"
      },
      "execution_count": 105,
      "outputs": [
        {
          "output_type": "stream",
          "name": "stdout",
          "text": [
            "uint8\n"
          ]
        }
      ]
    },
    {
      "cell_type": "code",
      "source": [
        "X_train_PCA_HoG,X_train_PCA_HoG_images = HoG_features(X_train_approx)\n",
        "X_test_PCA_HoG,X_test_PCA_HoG_images = HoG_features(X_test_approx)"
      ],
      "metadata": {
        "colab": {
          "base_uri": "https://localhost:8080/"
        },
        "id": "axNoMTZaNyxu",
        "outputId": "e0371f00-5170-4b84-f31b-4f8ddaa07c5d"
      },
      "execution_count": 106,
      "outputs": [
        {
          "output_type": "stream",
          "name": "stderr",
          "text": [
            "100%|██████████| 50000/50000 [02:44<00:00, 304.56it/s]\n",
            "100%|██████████| 10000/10000 [00:33<00:00, 300.78it/s]\n"
          ]
        }
      ]
    },
    {
      "cell_type": "code",
      "source": [
        "create_pickles('TrainFeaturesPCA_HoG.pkl', X_train_PCA_HoG)\n",
        "create_pickles('TestFeaturesPCA_HoG.pkl', X_test_PCA_HoG)"
      ],
      "metadata": {
        "id": "jMufcrLirYge"
      },
      "execution_count": 107,
      "outputs": []
    },
    {
      "cell_type": "code",
      "source": [
        "fig, axes = plt.subplots(1, 3, figsize=(12, 4))\n",
        "\n",
        "axes[0].imshow(X_train[0])\n",
        "axes[0].set_title('Original Image')\n",
        "axes[0].axis('off')\n",
        "\n",
        "axes[1].imshow(DeNormalize_Image(X_train_PCA_inverse[0].reshape(32, 32, 3)))\n",
        "axes[1].set_title('PCA Reconstructed Image')\n",
        "axes[1].axis('off')\n",
        "\n",
        "axes[2].imshow(train_images_HoG[0], cmap='gray')\n",
        "axes[2].set_title('HoG Image')\n",
        "axes[2].axis('off')\n",
        "\n",
        "plt.tight_layout()"
      ],
      "metadata": {
        "colab": {
          "base_uri": "https://localhost:8080/",
          "height": 424
        },
        "id": "BcK389iZEcLC",
        "outputId": "0905cf4f-5aff-471f-daff-6ab062bd1c04"
      },
      "execution_count": 111,
      "outputs": [
        {
          "output_type": "display_data",
          "data": {
            "text/plain": [
              "<Figure size 1200x400 with 3 Axes>"
            ],
            "image/png": "[encoded data removed]"
          },
          "metadata": {}
        }
      ]
    }
  ]
}