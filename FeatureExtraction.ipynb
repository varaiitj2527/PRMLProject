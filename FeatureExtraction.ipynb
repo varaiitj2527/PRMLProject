{
  "nbformat": 4,
  "nbformat_minor": 0,
  "metadata": {
    "colab": {
      "provenance": []
    },
    "kernelspec": {
      "name": "python3",
      "display_name": "Python 3"
    },
    "language_info": {
      "name": "python"
    }
  },
  "cells": [
    {
      "cell_type": "code",
      "source": [
        "import numpy as np\n",
        "from skimage.feature import hog\n",
        "from tqdm import tqdm\n",
        "import pickle"
      ],
      "metadata": {
        "id": "7JI2DB02qxuR"
      },
      "execution_count": 1,
      "outputs": []
    },
    {
      "cell_type": "code",
      "execution_count": 12,
      "metadata": {
        "id": "So24hOm2S4ty"
      },
      "outputs": [],
      "source": [
        "def unpickle(file):\n",
        "  dict = pickle.load(file, encoding='bytes')\n",
        "  return dict"
      ]
    },
    {
      "cell_type": "code",
      "source": [
        "def load_cifar_batch(filename):\n",
        "    #returns features, labels of a batchfile\n",
        "    with open(filename, 'rb') as file:\n",
        "        batch_data = unpickle(file)\n",
        "\n",
        "    pixels = batch_data[b'data']\n",
        "    labels = batch_data[b'labels']\n",
        "\n",
        "    #3072---->3,32,32---->32,32,3\n",
        "    pixels = pixels.reshape(-1, 3, 32, 32).transpose(0, 2, 3, 1)\n",
        "    return pixels, labels"
      ],
      "metadata": {
        "id": "FmJvALTmrT2O"
      },
      "execution_count": 15,
      "outputs": []
    },
    {
      "cell_type": "code",
      "source": [
        "def load_cifar_data():\n",
        "  #returns X_train, y_train, X_test, y_test\n",
        "  X_train, y_train = [], []\n",
        "  for i in range(1, 6):\n",
        "      pixels, labels = load_cifar_batch(f'data_batch_{i}')\n",
        "      X_train.append(pixels)\n",
        "      y_train += labels\n",
        "\n",
        "  X_train = np.concatenate(X_train)\n",
        "  y_train = np.array(y_train)\n",
        "\n",
        "  X_test, y_test = load_cifar_batch('test_batch')\n",
        "  X_test, y_test = np.array(X_test), np.array(y_test)\n",
        "\n",
        "  print(f\"shape of train set: {X_train.shape}\")\n",
        "  print(f\"shape of test set: {X_test.shape}\")\n",
        "\n",
        "  return X_train, y_train, X_test, y_test"
      ],
      "metadata": {
        "id": "1qxJZQ_Du4lv"
      },
      "execution_count": 16,
      "outputs": []
    },
    {
      "cell_type": "code",
      "source": [
        "X_train, y_train, X_test, y_test = load_cifar_data()"
      ],
      "metadata": {
        "colab": {
          "base_uri": "https://localhost:8080/"
        },
        "id": "dCHqi4PZwEVd",
        "outputId": "be0f79f6-9a71-4d4b-825a-2321afbd4198"
      },
      "execution_count": 17,
      "outputs": [
        {
          "output_type": "stream",
          "name": "stdout",
          "text": [
            "shape of train set: (50000, 32, 32, 3)\n",
            "shape of test set: (10000, 32, 32, 3)\n"
          ]
        }
      ]
    },
    {
      "cell_type": "code",
      "source": [
        "def compute_hog(img):\n",
        "\n",
        "  #creating hog features\n",
        "  fd, hog_image = hog(img, orientations=9, pixels_per_cell=(8, 8),cells_per_block=(2, 2), visualize=True, channel_axis=-1)\n",
        "  return fd"
      ],
      "metadata": {
        "id": "5dNAgOiQw-MX"
      },
      "execution_count": 14,
      "outputs": []
    },
    {
      "cell_type": "code",
      "source": [
        "def hog_features(data):\n",
        "  X_train_hog = []\n",
        "  l = len(data)\n",
        "  for i in tqdm(range(l)):\n",
        "    X = compute_hog(data[i])\n",
        "    X_train_hog.append(X)\n",
        "  X_train_hog = np.array(X_train_hog)\n",
        "  return X_train_hog"
      ],
      "metadata": {
        "id": "Y6z7EXMLx_Fk"
      },
      "execution_count": 13,
      "outputs": []
    },
    {
      "cell_type": "code",
      "source": [
        "from sklearn.decomposition import PCA"
      ],
      "metadata": {
        "id": "pNuD85Ajl_35"
      },
      "execution_count": 3,
      "outputs": []
    },
    {
      "cell_type": "code",
      "source": [
        "x_train_flat = X_train.reshape(-1,3072)\n",
        "pca = PCA(0.99)\n",
        "pca.fit(x_train_flat)\n",
        "PCA(copy = True, iterated_power = 'auto', n_components = 0.99, random_state = None, svd_solver = 'auto', tol = 0.0, whiten = False)\n",
        "pca.n_components_"
      ],
      "metadata": {
        "colab": {
          "base_uri": "https://localhost:8080/"
        },
        "id": "U62LW0ZRtzh9",
        "outputId": "ff4d314b-8f9d-4fe6-c391-970ead55123f"
      },
      "execution_count": 21,
      "outputs": [
        {
          "output_type": "execute_result",
          "data": {
            "text/plain": [
              "np.int64(658)"
            ]
          },
          "metadata": {},
          "execution_count": 21
        }
      ]
    },
    {
      "cell_type": "code",
      "source": [
        "import matplotlib.pyplot as plt\n",
        "image = X_train[0]\n",
        "plt.imshow(image)\n",
        "plt.show()"
      ],
      "metadata": {
        "colab": {
          "base_uri": "https://localhost:8080/",
          "height": 430
        },
        "id": "8qfFmq31vZoe",
        "outputId": "373eec6a-685b-41e2-aec3-24086a448924"
      },
      "execution_count": 22,
      "outputs": [
        {
          "output_type": "display_data",
          "data": {
            "text/plain": [
              "<Figure size 640x480 with 1 Axes>"
            ],
            "image/png": "[encoded data removed]"
          },
          "metadata": {}
        }
      ]
    },
    {
      "cell_type": "code",
      "source": [
        "pca = PCA(658)\n",
        "a = pca.fit_transform(x_train_flat)\n",
        "a_inv = pca.inverse_transform(a)"
      ],
      "metadata": {
        "id": "INBX-6Q1vuCb"
      },
      "execution_count": 26,
      "outputs": []
    },
    {
      "cell_type": "code",
      "source": [
        "a.shape"
      ],
      "metadata": {
        "colab": {
          "base_uri": "https://localhost:8080/"
        },
        "id": "ugFpjEN4v-fq",
        "outputId": "6ca279f7-609d-4ae1-a543-f676417ff9c4"
      },
      "execution_count": 27,
      "outputs": [
        {
          "output_type": "execute_result",
          "data": {
            "text/plain": [
              "(50000, 658)"
            ]
          },
          "metadata": {},
          "execution_count": 27
        }
      ]
    },
    {
      "cell_type": "code",
      "source": [
        "a_inv.shape"
      ],
      "metadata": {
        "colab": {
          "base_uri": "https://localhost:8080/"
        },
        "id": "e-SsZFXqxogU",
        "outputId": "40ff80a4-e29f-41c4-885a-7888c033fcdb"
      },
      "execution_count": 28,
      "outputs": [
        {
          "output_type": "execute_result",
          "data": {
            "text/plain": [
              "(50000, 3072)"
            ]
          },
          "metadata": {},
          "execution_count": 28
        }
      ]
    },
    {
      "cell_type": "code",
      "source": [
        "def normalize_image(img):\n",
        "    img -= img.min()\n",
        "    img /= img.max()\n",
        "    img *= 255\n",
        "    return img.astype(np.uint8)"
      ],
      "metadata": {
        "id": "JAY7rt95zoY-"
      },
      "execution_count": 20,
      "outputs": []
    },
    {
      "cell_type": "code",
      "source": [
        "image_c = a_inv[0].reshape(32,32,3)\n",
        "image_c = normalize_image(image_c)\n",
        "plt.imshow(image_c)\n",
        "plt.show()\n",
        "print(x_train_flat[0])\n",
        "a_inv[0]"
      ],
      "metadata": {
        "colab": {
          "base_uri": "https://localhost:8080/",
          "height": 482
        },
        "id": "b3mGiIXxxzab",
        "outputId": "2174e68c-98fc-45ee-da86-d56d4778d3d5"
      },
      "execution_count": 36,
      "outputs": [
        {
          "output_type": "display_data",
          "data": {
            "text/plain": [
              "<Figure size 640x480 with 1 Axes>"
            ],
            "image/png": "[encoded data removed]"
          },
          "metadata": {}
        },
        {
          "output_type": "stream",
          "name": "stdout",
          "text": [
            "[ 59  62  63 ... 123  92  72]\n"
          ]
        },
        {
          "output_type": "execute_result",
          "data": {
            "text/plain": [
              "array([ 68.61949403,  63.73888939,  62.57702582, ..., 120.73856569,\n",
              "       100.62428821,  80.26556119])"
            ]
          },
          "metadata": {},
          "execution_count": 36
        }
      ]
    },
    {
      "cell_type": "code",
      "source": [
        "#def pca_hog(data):\n"
      ],
      "metadata": {
        "id": "1e26oq0F4dO6"
      },
      "execution_count": null,
      "outputs": []
    },
    {
      "cell_type": "code",
      "source": [
        "#def hog_pca(data):"
      ],
      "metadata": {
        "id": "-Csg2P0H4jPf"
      },
      "execution_count": null,
      "outputs": []
    },
    {
      "cell_type": "code",
      "source": [
        "with open('FeaturesPCA.pkl', 'wb') as f:\n",
        "    pickle.dump(a, f)"
      ],
      "metadata": {
        "id": "WVqCz9Zx7UfF"
      },
      "execution_count": 43,
      "outputs": []
    },
    {
      "cell_type": "code",
      "source": [
        "feat_hog = hog_features(X_train)\n",
        "print(feat_hog.shape)\n",
        "\n",
        "with open('FeaturesHoG.pkl', 'wb') as f:\n",
        "    pickle.dump(feat_hog, f)"
      ],
      "metadata": {
        "colab": {
          "base_uri": "https://localhost:8080/"
        },
        "id": "WfFEQ8cU_1Bh",
        "outputId": "7fe34236-bc0c-4d71-bced-8f30b3107f28"
      },
      "execution_count": 48,
      "outputs": [
        {
          "output_type": "stream",
          "name": "stderr",
          "text": [
            "100%|██████████| 50000/50000 [02:47<00:00, 297.83it/s]\n"
          ]
        },
        {
          "output_type": "stream",
          "name": "stdout",
          "text": [
            "(50000, 324)\n"
          ]
        }
      ]
    },
    {
      "cell_type": "code",
      "source": [
        "with open('FeaturesHoG.pkl', 'rb') as f:\n",
        "    feat_hog = pickle.load(f)"
      ],
      "metadata": {
        "id": "k7lnZ-Tcjazx"
      },
      "execution_count": 2,
      "outputs": []
    },
    {
      "cell_type": "code",
      "source": [
        "pca = PCA(0.99)\n",
        "pca.fit(feat_hog)\n",
        "PCA(copy = True, iterated_power = 'auto', n_components = 0.99, random_state = None, svd_solver = 'auto', tol = 0.0, whiten = False)\n",
        "pca.n_components_"
      ],
      "metadata": {
        "colab": {
          "base_uri": "https://localhost:8080/"
        },
        "id": "yYdPiJuckCFm",
        "outputId": "5a6465e6-b7a8-43bf-8ca6-829af7b5857a"
      },
      "execution_count": 4,
      "outputs": [
        {
          "output_type": "execute_result",
          "data": {
            "text/plain": [
              "np.int64(170)"
            ]
          },
          "metadata": {},
          "execution_count": 4
        }
      ]
    },
    {
      "cell_type": "code",
      "source": [
        "pca = PCA(170)\n",
        "a = pca.fit_transform(feat_hog)\n",
        "a.shape"
      ],
      "metadata": {
        "colab": {
          "base_uri": "https://localhost:8080/"
        },
        "id": "k-MoZkL8kdFY",
        "outputId": "745e34bf-99e2-4151-ca1f-4288d47bccda"
      },
      "execution_count": 41,
      "outputs": [
        {
          "output_type": "execute_result",
          "data": {
            "text/plain": [
              "(50000, 170)"
            ]
          },
          "metadata": {},
          "execution_count": 41
        }
      ]
    },
    {
      "cell_type": "code",
      "source": [
        "with open('FeaturesHoG_PCA.pkl', 'wb') as f:\n",
        "    pickle.dump(a, f)"
      ],
      "metadata": {
        "id": "sdonCVVaks2j"
      },
      "execution_count": 7,
      "outputs": []
    },
    {
      "cell_type": "code",
      "source": [
        "x_train_flat = X_train.reshape(-1,3072)\n",
        "pca_ = PCA(658)\n",
        "feat_pca = pca_.fit_transform(x_train_flat)\n",
        "feat_inv_pca = pca_.inverse_transform(feat_pca)"
      ],
      "metadata": {
        "id": "QtzP9O0Foetr"
      },
      "execution_count": 29,
      "outputs": []
    },
    {
      "cell_type": "code",
      "source": [
        "feat_inv_pca = feat_inv_pca.reshape(-1,32,32,3)\n",
        "for image in feat_inv_pca:\n",
        "  image = normalize_image(image)"
      ],
      "metadata": {
        "id": "q9g1O4_Bo9hX"
      },
      "execution_count": 30,
      "outputs": []
    },
    {
      "cell_type": "code",
      "source": [
        "feat_inv_pca = feat_inv_pca.astype(np.uint8)\n",
        "print(feat_inv_pca.shape)\n",
        "\n",
        "feat_pca_hog = hog_features(feat_inv_pca)\n",
        "print(feat_pca_hog.shape)\n",
        "\n",
        "with open('FeaturesPCA_HoG.pkl', 'wb') as f:\n",
        "    pickle.dump(feat_pca_hog, f)"
      ],
      "metadata": {
        "colab": {
          "base_uri": "https://localhost:8080/"
        },
        "id": "jMufcrLirYge",
        "outputId": "59cd0d36-5623-4567-a43a-58edfe7049a5"
      },
      "execution_count": 33,
      "outputs": [
        {
          "output_type": "stream",
          "name": "stdout",
          "text": [
            "(50000, 32, 32, 3)\n"
          ]
        },
        {
          "output_type": "stream",
          "name": "stderr",
          "text": [
            "100%|██████████| 50000/50000 [02:42<00:00, 308.49it/s]\n"
          ]
        },
        {
          "output_type": "stream",
          "name": "stdout",
          "text": [
            "(50000, 324)\n"
          ]
        }
      ]
    },
    {
      "cell_type": "code",
      "source": [
        "feat_hog_test = hog_features(X_test)\n",
        "print(feat_hog_test.shape)\n",
        "\n",
        "with open('TestHoG.pkl', 'wb') as f:\n",
        "    pickle.dump(feat_hog_test, f)"
      ],
      "metadata": {
        "colab": {
          "base_uri": "https://localhost:8080/"
        },
        "id": "HEneQhaKtqkP",
        "outputId": "fe70aab1-ad2b-4386-9096-f1c5472597a7"
      },
      "execution_count": 34,
      "outputs": [
        {
          "output_type": "stream",
          "name": "stderr",
          "text": [
            "100%|██████████| 10000/10000 [00:33<00:00, 296.19it/s]"
          ]
        },
        {
          "output_type": "stream",
          "name": "stdout",
          "text": [
            "(10000, 324)\n"
          ]
        },
        {
          "output_type": "stream",
          "name": "stderr",
          "text": [
            "\n"
          ]
        }
      ]
    },
    {
      "cell_type": "code",
      "source": [
        "x_test_flat = X_test.reshape(-1,3072)\n",
        "feat_pca_test = pca_.transform(x_test_flat)\n",
        "feat_inv_pca_test = pca_.inverse_transform(feat_inv_pca_test)"
      ],
      "metadata": {
        "colab": {
          "base_uri": "https://localhost:8080/",
          "height": 315
        },
        "collapsed": true,
        "id": "XWNp1MMDuIdD",
        "outputId": "90628145-6d86-42e9-b168-78df8d95699d"
      },
      "execution_count": 38,
      "outputs": [
        {
          "output_type": "error",
          "ename": "ValueError",
          "evalue": "matmul: Input operand 1 has a mismatch in its core dimension 0, with gufunc signature (n?,k),(k,m?)->(n?,m?) (size 658 is different from 3072)",
          "traceback": [
            "\u001b[0;31m---------------------------------------------------------------------------\u001b[0m",
            "\u001b[0;31mValueError\u001b[0m                                Traceback (most recent call last)",
            "\u001b[0;32m<ipython-input-38-64e2a75f6d10>\u001b[0m in \u001b[0;36m<cell line: 0>\u001b[0;34m()\u001b[0m\n\u001b[1;32m      1\u001b[0m \u001b[0mx_test_flat\u001b[0m \u001b[0;34m=\u001b[0m \u001b[0mX_test\u001b[0m\u001b[0;34m.\u001b[0m\u001b[0mreshape\u001b[0m\u001b[0;34m(\u001b[0m\u001b[0;34m-\u001b[0m\u001b[0;36m1\u001b[0m\u001b[0;34m,\u001b[0m\u001b[0;36m3072\u001b[0m\u001b[0;34m)\u001b[0m\u001b[0;34m\u001b[0m\u001b[0;34m\u001b[0m\u001b[0m\n\u001b[1;32m      2\u001b[0m \u001b[0mfeat_pca_test\u001b[0m \u001b[0;34m=\u001b[0m \u001b[0mpca_\u001b[0m\u001b[0;34m.\u001b[0m\u001b[0mtransform\u001b[0m\u001b[0;34m(\u001b[0m\u001b[0mx_test_flat\u001b[0m\u001b[0;34m)\u001b[0m\u001b[0;34m\u001b[0m\u001b[0;34m\u001b[0m\u001b[0m\n\u001b[0;32m----> 3\u001b[0;31m \u001b[0mfeat_inv_pca_test\u001b[0m \u001b[0;34m=\u001b[0m \u001b[0mpca_\u001b[0m\u001b[0;34m.\u001b[0m\u001b[0minverse_transform\u001b[0m\u001b[0;34m(\u001b[0m\u001b[0mfeat_inv_pca_test\u001b[0m\u001b[0;34m)\u001b[0m\u001b[0;34m\u001b[0m\u001b[0;34m\u001b[0m\u001b[0m\n\u001b[0m",
            "\u001b[0;32m/usr/local/lib/python3.11/dist-packages/sklearn/decomposition/_base.py\u001b[0m in \u001b[0;36minverse_transform\u001b[0;34m(self, X)\u001b[0m\n\u001b[1;32m    195\u001b[0m             \u001b[0;32mreturn\u001b[0m \u001b[0mX\u001b[0m \u001b[0;34m@\u001b[0m \u001b[0mscaled_components\u001b[0m \u001b[0;34m+\u001b[0m \u001b[0mself\u001b[0m\u001b[0;34m.\u001b[0m\u001b[0mmean_\u001b[0m\u001b[0;34m\u001b[0m\u001b[0;34m\u001b[0m\u001b[0m\n\u001b[1;32m    196\u001b[0m         \u001b[0;32melse\u001b[0m\u001b[0;34m:\u001b[0m\u001b[0;34m\u001b[0m\u001b[0;34m\u001b[0m\u001b[0m\n\u001b[0;32m--> 197\u001b[0;31m             \u001b[0;32mreturn\u001b[0m \u001b[0mX\u001b[0m \u001b[0;34m@\u001b[0m \u001b[0mself\u001b[0m\u001b[0;34m.\u001b[0m\u001b[0mcomponents_\u001b[0m \u001b[0;34m+\u001b[0m \u001b[0mself\u001b[0m\u001b[0;34m.\u001b[0m\u001b[0mmean_\u001b[0m\u001b[0;34m\u001b[0m\u001b[0;34m\u001b[0m\u001b[0m\n\u001b[0m\u001b[1;32m    198\u001b[0m \u001b[0;34m\u001b[0m\u001b[0m\n\u001b[1;32m    199\u001b[0m     \u001b[0;34m@\u001b[0m\u001b[0mproperty\u001b[0m\u001b[0;34m\u001b[0m\u001b[0;34m\u001b[0m\u001b[0m\n",
            "\u001b[0;31mValueError\u001b[0m: matmul: Input operand 1 has a mismatch in its core dimension 0, with gufunc signature (n?,k),(k,m?)->(n?,m?) (size 658 is different from 3072)"
          ]
        }
      ]
    },
    {
      "cell_type": "code",
      "source": [
        "feat_pca_test.shape"
      ],
      "metadata": {
        "colab": {
          "base_uri": "https://localhost:8080/"
        },
        "id": "1PCwynNevXT1",
        "outputId": "5b781e60-ee65-4a3f-cb53-a94330a86b36"
      },
      "execution_count": 36,
      "outputs": [
        {
          "output_type": "execute_result",
          "data": {
            "text/plain": [
              "(10000, 658)"
            ]
          },
          "metadata": {},
          "execution_count": 36
        }
      ]
    },
    {
      "cell_type": "code",
      "source": [
        "with open('TestPCA.pkl', 'wb') as f:\n",
        "    pickle.dump(feat_pca_test, f)"
      ],
      "metadata": {
        "id": "4uzSbBI3vnUe"
      },
      "execution_count": 37,
      "outputs": []
    },
    {
      "cell_type": "code",
      "source": [
        "feat_inv_pca_test = pca_.inverse_transform(feat_pca_test)\n",
        "feat_inv_pca_test = feat_inv_pca_test.reshape(-1,32,32,3)\n",
        "for image in feat_inv_pca_test:\n",
        "  image = normalize_image(image)\n",
        "\n",
        "feat_inv_pca_test = feat_inv_pca_test.astype(np.uint8)\n",
        "print(feat_inv_pca_test.shape)\n",
        "\n",
        "feat_pca_hog_test = hog_features(feat_inv_pca_test)\n",
        "print(feat_pca_hog_test.shape)\n",
        "\n",
        "with open('TestPCA_HoG.pkl', 'wb') as f:\n",
        "    pickle.dump(feat_pca_hog_test, f)"
      ],
      "metadata": {
        "colab": {
          "base_uri": "https://localhost:8080/"
        },
        "id": "cyzDIjDivzXJ",
        "outputId": "dfe2b483-e547-48ad-a44d-b942abaef18e"
      },
      "execution_count": 39,
      "outputs": [
        {
          "output_type": "stream",
          "name": "stdout",
          "text": [
            "(10000, 32, 32, 3)\n"
          ]
        },
        {
          "output_type": "stream",
          "name": "stderr",
          "text": [
            "100%|██████████| 10000/10000 [00:31<00:00, 315.97it/s]\n"
          ]
        },
        {
          "output_type": "stream",
          "name": "stdout",
          "text": [
            "(10000, 324)\n"
          ]
        }
      ]
    },
    {
      "cell_type": "code",
      "source": [
        "feat_hog_test = pca.transform(feat_hog_test)\n",
        "feat_hog_test.shape"
      ],
      "metadata": {
        "colab": {
          "base_uri": "https://localhost:8080/"
        },
        "id": "BJGg1FYfxzyN",
        "outputId": "6ddceb08-18d6-492f-a424-a07f883b5ab8"
      },
      "execution_count": 42,
      "outputs": [
        {
          "output_type": "execute_result",
          "data": {
            "text/plain": [
              "(10000, 170)"
            ]
          },
          "metadata": {},
          "execution_count": 42
        }
      ]
    },
    {
      "cell_type": "code",
      "source": [
        "with open('TestHoG_PCA.pkl', 'wb') as f:\n",
        "    pickle.dump(feat_hog_test, f)"
      ],
      "metadata": {
        "id": "ytkpTZZdzHPv"
      },
      "execution_count": 43,
      "outputs": []
    }
  ]
}